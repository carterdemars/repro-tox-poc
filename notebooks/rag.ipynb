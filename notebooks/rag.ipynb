{
 "cells": [
  {
   "cell_type": "code",
   "execution_count": 1,
   "metadata": {},
   "outputs": [],
   "source": [
    "from langchain.document_loaders.pdf import PyPDFDirectoryLoader\n",
    "from langchain.schema.document import Document\n",
    "from langchain_community.embeddings.sentence_transformer import SentenceTransformerEmbeddings\n",
    "from langchain.vectorstores.chroma import Chroma\n",
    "from langchain_community.embeddings.ollama import OllamaEmbeddings"
   ]
  },
  {
   "cell_type": "code",
   "execution_count": 2,
   "metadata": {},
   "outputs": [],
   "source": [
    "chroma_path = \"../chroma\""
   ]
  },
  {
   "cell_type": "code",
   "execution_count": 3,
   "metadata": {},
   "outputs": [],
   "source": [
    "vectordb = Chroma(persist_directory=chroma_path, embedding_function = OllamaEmbeddings(model='nomic-embed-text'))"
   ]
  },
  {
   "cell_type": "code",
   "execution_count": 4,
   "metadata": {},
   "outputs": [],
   "source": [
    "retriever = vectordb.as_retriever()"
   ]
  },
  {
   "cell_type": "code",
   "execution_count": 5,
   "metadata": {},
   "outputs": [],
   "source": [
    "URI = \"https://repro-toxicity-xrbuc.eastus2.inference.ml.azure.com/score\"\n",
    "KEY = \"9aIh4YiafyykA1e9okBCiwz6gupwDskX\""
   ]
  },
  {
   "cell_type": "code",
   "execution_count": 6,
   "metadata": {},
   "outputs": [
    {
     "name": "stdout",
     "output_type": "stream",
     "text": [
      "content='The eternal question!\\n\\nThe Collatz Conjecture, also known as the 3x+1 problem, is a famous unsolved problem in mathematics that has been puzzling mathematicians for over 80 years. The conjecture states that for any positive integer, if you apply a simple transformation (either multiply by 3 and add 1, or divide by 2), you eventually reach the number 1.\\n\\nWhile we have seen evidence of the conjecture holding true for an incredibly large number of starting values, a formal proof or counterexample has yet to be found. In fact, many mathematicians believe that the conjecture is true, but they have been unable to prove it.\\n\\nSo, will humans ever solve the Collatz Conjecture? It\\'s hard to predict, but here are a few reasons why mathematicians remain optimistic:\\n\\n1. **Slow progress**: Despite the lack of a formal proof, mathematicians have made significant progress in understanding the behavior of the Collatz sequence. For example, we know that the sequence never visits the same value twice, and that there is a bound on the number of iterations required to reach 1.\\n2. **Computational evidence**: As I mentioned earlier, we have seen evidence of the conjecture holding true for an incredibly large number of starting values. While this doesn\\'t constitute a proof, it suggests that the conjecture might be true.\\n3. **Mathematical techniques**: Mathematicians have developed various techniques to deal with the Collatz sequence, such as the use of probability theory, algebraic geometry, and even cryptography. These techniques have led to new insights and potential approaches to proving the conjecture.\\n4. **Collaboration and competition**: The Collatz Conjecture has become a sort of \"mathematical Holy Grail,\" and mathematicians from around the world are actively working on it. The combination of collaboration and competition can lead to breakthroughs and new ideas.\\n\\nThat being said, there are also reasons why solving the Collatz Conjecture might be extremely challenging:\\n\\n1. **Lack of a clear strategy**: Despite decades of effort, mathematicians have not yet identified a clear, overarching strategy for proving the conjecture.\\n2. **Complexity**: The Collatz sequence is incredibly complex, with a vast number of possible iterations. This complexity makes it difficult to analyze and prove the conjecture.\\n3. **Potential counterexamples**: While we have not found a counterexample to the conjecture, it is still possible that one exists. If a counterexample were' type='assistant' id='run-8dd3de9d-0885-4c42-a167-8cf1d0e34fd1-0'\n"
     ]
    }
   ],
   "source": [
    "from langchain_community.chat_models.azureml_endpoint import AzureMLChatOnlineEndpoint, CustomOpenAIChatContentFormatter\n",
    "from langchain_community.llms.azureml_endpoint import AzureMLEndpointApiType\n",
    "\n",
    "llm = AzureMLChatOnlineEndpoint(\n",
    "    endpoint_url=URI,\n",
    "    endpoint_api_type=AzureMLEndpointApiType.dedicated,\n",
    "    endpoint_api_key=KEY,\n",
    "    content_formatter=CustomOpenAIChatContentFormatter(),\n",
    "    model_kwargs={\"max_tokens\": 512},\n",
    ")\n",
    "\n",
    "response = llm.invoke(\"Will humans ever solve the Collatz conjecture?\")\n",
    "print(response)"
   ]
  },
  {
   "cell_type": "code",
   "execution_count": 7,
   "metadata": {},
   "outputs": [
    {
     "data": {
      "text/plain": [
       "'The eternal question!\\n\\nThe Collatz Conjecture, also known as the 3x+1 problem, is a famous unsolved problem in mathematics that has been puzzling mathematicians for over 80 years. The conjecture states that for any positive integer, if you apply a simple transformation (either multiply by 3 and add 1, or divide by 2), you eventually reach the number 1.\\n\\nWhile we have seen evidence of the conjecture holding true for an incredibly large number of starting values, a formal proof or counterexample has yet to be found. In fact, many mathematicians believe that the conjecture is true, but they have been unable to prove it.\\n\\nSo, will humans ever solve the Collatz Conjecture? It\\'s hard to predict, but here are a few reasons why mathematicians remain optimistic:\\n\\n1. **Slow progress**: Despite the lack of a formal proof, mathematicians have made significant progress in understanding the behavior of the Collatz sequence. For example, we know that the sequence never visits the same value twice, and that there is a bound on the number of iterations required to reach 1.\\n2. **Computational evidence**: As I mentioned earlier, we have seen evidence of the conjecture holding true for an incredibly large number of starting values. While this doesn\\'t constitute a proof, it suggests that the conjecture might be true.\\n3. **Mathematical techniques**: Mathematicians have developed various techniques to deal with the Collatz sequence, such as the use of probability theory, algebraic geometry, and even cryptography. These techniques have led to new insights and potential approaches to proving the conjecture.\\n4. **Collaboration and competition**: The Collatz Conjecture has become a sort of \"mathematical Holy Grail,\" and mathematicians from around the world are actively working on it. The combination of collaboration and competition can lead to breakthroughs and new ideas.\\n\\nThat being said, there are also reasons why solving the Collatz Conjecture might be extremely challenging:\\n\\n1. **Lack of a clear strategy**: Despite decades of effort, mathematicians have not yet identified a clear, overarching strategy for proving the conjecture.\\n2. **Complexity**: The Collatz sequence is incredibly complex, with a vast number of possible iterations. This complexity makes it difficult to analyze and prove the conjecture.\\n3. **Potential counterexamples**: While we have not found a counterexample to the conjecture, it is still possible that one exists. If a counterexample were'"
      ]
     },
     "execution_count": 7,
     "metadata": {},
     "output_type": "execute_result"
    }
   ],
   "source": [
    "response.content"
   ]
  },
  {
   "cell_type": "code",
   "execution_count": 8,
   "metadata": {},
   "outputs": [],
   "source": [
    "question = \"What happened with  OECD  Working  Group in  Copenhagen  in  June  1995?\""
   ]
  },
  {
   "cell_type": "code",
   "execution_count": 9,
   "metadata": {},
   "outputs": [],
   "source": [
    "from langchain.chains.combine_documents import create_stuff_documents_chain\n",
    "from langchain_core.prompts import ChatPromptTemplate, MessagesPlaceholder\n",
    "\n",
    "SYSTEM_TEMPLATE = \"\"\"\n",
    "Answer the user's questions based on the below context. \n",
    "If the context doesn't contain any relevant information to the question, don't make something up and just say \"I don't know\":\n",
    "\n",
    "<context>\n",
    "{context}\n",
    "</context>\n",
    "\"\"\"\n",
    "\n",
    "question_answering_prompt = ChatPromptTemplate.from_messages(\n",
    "    [\n",
    "        (\n",
    "            \"system\",\n",
    "            SYSTEM_TEMPLATE,\n",
    "        ),\n",
    "        MessagesPlaceholder(variable_name=\"messages\"),\n",
    "    ]\n",
    ")\n",
    "\n",
    "document_chain = create_stuff_documents_chain(llm, question_answering_prompt)"
   ]
  },
  {
   "cell_type": "code",
   "execution_count": 10,
   "metadata": {},
   "outputs": [],
   "source": [
    "from typing import Dict\n",
    "\n",
    "from langchain_core.runnables import RunnablePassthrough\n",
    "\n",
    "def parse_retriever_input(params: Dict):\n",
    "    return params[\"messages\"][-1].content\n",
    "\n",
    "retrieval_chain = RunnablePassthrough.assign(\n",
    "    context=parse_retriever_input | retriever,\n",
    ").assign(\n",
    "    answer=document_chain,\n",
    ")"
   ]
  },
  {
   "cell_type": "code",
   "execution_count": 11,
   "metadata": {},
   "outputs": [
    {
     "data": {
      "text/plain": [
       "BaseMessage(content='\"LangSmith LLM application testing\"', type='assistant', id='run-a9239247-1df9-4ef4-b93c-4efd20cc1575-0')"
      ]
     },
     "execution_count": 11,
     "metadata": {},
     "output_type": "execute_result"
    }
   ],
   "source": [
    "from langchain_core.messages import AIMessage, HumanMessage\n",
    "\n",
    "query_transform_prompt = ChatPromptTemplate.from_messages(\n",
    "    [\n",
    "        MessagesPlaceholder(variable_name=\"messages\"),\n",
    "        (\n",
    "            \"user\",\n",
    "            \"Given the above conversation, generate a search query to look up in order to get information relevant to the conversation. Only respond with the query, nothing else.\",\n",
    "        ),\n",
    "    ]\n",
    ")\n",
    "\n",
    "query_transformation_chain = query_transform_prompt | llm\n",
    "\n",
    "query_transformation_chain.invoke(\n",
    "    {\n",
    "        \"messages\": [\n",
    "            HumanMessage(content=\"Can LangSmith help test my LLM applications?\"),\n",
    "            AIMessage(\n",
    "                content=\"Yes, LangSmith can help test and evaluate your LLM applications. It allows you to quickly edit examples and add them to datasets to expand the surface area of your evaluation sets or to fine-tune a model for improved quality or reduced costs. Additionally, LangSmith can be used to monitor your application, log all traces, visualize latency and token usage statistics, and troubleshoot specific issues as they arise.\"\n",
    "            ),\n",
    "            HumanMessage(content=\"Tell me more!\"),\n",
    "        ],\n",
    "    }\n",
    ")"
   ]
  },
  {
   "cell_type": "code",
   "execution_count": 12,
   "metadata": {},
   "outputs": [],
   "source": [
    "from langchain_core.output_parsers import StrOutputParser\n",
    "from langchain_core.runnables import RunnableBranch\n",
    "\n",
    "query_transforming_retriever_chain = RunnableBranch(\n",
    "    (\n",
    "        lambda x: len(x.get(\"messages\", [])) == 1,\n",
    "        # If only one message, then we just pass that message's content to retriever\n",
    "        (lambda x: x[\"messages\"][-1].content) | retriever,\n",
    "    ),\n",
    "    # If messages, then we pass inputs to LLM chain to transform the query, then pass to retriever\n",
    "    query_transform_prompt | llm | StrOutputParser() | retriever,\n",
    ").with_config(run_name=\"chat_retriever_chain\")"
   ]
  },
  {
   "cell_type": "code",
   "execution_count": 13,
   "metadata": {},
   "outputs": [],
   "source": [
    "SYSTEM_TEMPLATE = \"\"\"\n",
    "Answer the user's questions based on the below context. \n",
    "If the context doesn't contain any relevant information to the question, don't make something up and just say \"I don't know\":\n",
    "\n",
    "<context>\n",
    "{context}\n",
    "</context>\n",
    "\"\"\"\n",
    "\n",
    "question_answering_prompt = ChatPromptTemplate.from_messages(\n",
    "    [\n",
    "        (\n",
    "            \"system\",\n",
    "            SYSTEM_TEMPLATE,\n",
    "        ),\n",
    "        MessagesPlaceholder(variable_name=\"messages\"),\n",
    "    ]\n",
    ")\n",
    "\n",
    "document_chain = create_stuff_documents_chain(llm, question_answering_prompt)\n",
    "\n",
    "conversational_retrieval_chain = RunnablePassthrough.assign(\n",
    "    context=query_transforming_retriever_chain,\n",
    ").assign(\n",
    "    answer=document_chain,\n",
    ")"
   ]
  },
  {
   "cell_type": "code",
   "execution_count": 14,
   "metadata": {},
   "outputs": [],
   "source": [
    "response = conversational_retrieval_chain.invoke(\n",
    "    {\n",
    "        \"messages\": [\n",
    "            HumanMessage(content=question),\n",
    "        ]\n",
    "    }\n",
    ")"
   ]
  },
  {
   "cell_type": "code",
   "execution_count": 15,
   "metadata": {},
   "outputs": [
    {
     "data": {
      "text/plain": [
       "{'messages': [HumanMessage(content='What happened with  OECD  Working  Group in  Copenhagen  in  June  1995?')],\n",
       " 'context': [Document(page_content='In Copenhagen in June 1995, an OECD Working Group on Reproduction and Developmental', metadata={'id': '../documents/OECD TG 416 (2001).pdf:0:2', 'page': 0, 'source': '../documents/OECD TG 416 (2001).pdf'}),\n",
       "  Document(page_content='416 OECD/OCDE\\n4/13Limit test', metadata={'id': '../documents/OECD TG 416 (2001).pdf:3:0', 'page': 3, 'source': '../documents/OECD TG 416 (2001).pdf'}),\n",
       "  Document(page_content='416 OECD/OCDE\\n8/13Gross necropsy', metadata={'id': '../documents/OECD TG 416 (2001).pdf:7:0', 'page': 7, 'source': '../documents/OECD TG 416 (2001).pdf'}),\n",
       "  Document(page_content='416 OECD/OCDE\\n6/13OBSERVATIONS\\nClinical observations', metadata={'id': '../documents/OECD TG 416 (2001).pdf:5:0', 'page': 5, 'source': '../documents/OECD TG 416 (2001).pdf'})],\n",
       " 'answer': 'According to the context, the OECD Working Group on Reproduction and Developmental was present in Copenhagen in June 1995.'}"
      ]
     },
     "execution_count": 15,
     "metadata": {},
     "output_type": "execute_result"
    }
   ],
   "source": [
    "response"
   ]
  },
  {
   "cell_type": "code",
   "execution_count": 16,
   "metadata": {},
   "outputs": [
    {
     "data": {
      "text/plain": [
       "'According to the context, the OECD Working Group on Reproduction and Developmental was present in Copenhagen in June 1995.'"
      ]
     },
     "execution_count": 16,
     "metadata": {},
     "output_type": "execute_result"
    }
   ],
   "source": [
    "response['answer']"
   ]
  }
 ],
 "metadata": {
  "kernelspec": {
   "display_name": "pmra",
   "language": "python",
   "name": "python3"
  },
  "language_info": {
   "codemirror_mode": {
    "name": "ipython",
    "version": 3
   },
   "file_extension": ".py",
   "mimetype": "text/x-python",
   "name": "python",
   "nbconvert_exporter": "python",
   "pygments_lexer": "ipython3",
   "version": "3.12.3"
  }
 },
 "nbformat": 4,
 "nbformat_minor": 2
}

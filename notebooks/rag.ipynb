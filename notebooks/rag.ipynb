{
 "cells": [
  {
   "cell_type": "code",
   "execution_count": 2,
   "metadata": {},
   "outputs": [
    {
     "name": "stderr",
     "output_type": "stream",
     "text": [
      "c:\\Users\\QIWU\\AppData\\Local\\anaconda3\\envs\\science\\lib\\site-packages\\requests\\__init__.py:86: RequestsDependencyWarning: Unable to find acceptable character detection dependency (chardet or charset_normalizer).\n",
      "  warnings.warn(\n"
     ]
    }
   ],
   "source": [
    "from langchain.vectorstores.chroma import Chroma\n",
    "from langchain_community.embeddings.ollama import OllamaEmbeddings"
   ]
  },
  {
   "cell_type": "code",
   "execution_count": 3,
   "metadata": {},
   "outputs": [],
   "source": [
    "chroma_path = \"../chroma\""
   ]
  },
  {
   "cell_type": "code",
   "execution_count": 4,
   "metadata": {},
   "outputs": [],
   "source": [
    "vectordb = Chroma(persist_directory=chroma_path, embedding_function = OllamaEmbeddings(model='nomic-embed-text'))"
   ]
  },
  {
   "cell_type": "code",
   "execution_count": 5,
   "metadata": {},
   "outputs": [],
   "source": [
    "retriever = vectordb.as_retriever()"
   ]
  },
  {
   "cell_type": "code",
   "execution_count": 6,
   "metadata": {},
   "outputs": [],
   "source": [
    "URI = \"https://repro-toxicity-xrbuc.eastus2.inference.ml.azure.com/score\"\n",
    "KEY = \"9aIh4YiafyykA1e9okBCiwz6gupwDskX\""
   ]
  },
  {
   "cell_type": "code",
   "execution_count": 7,
   "metadata": {},
   "outputs": [],
   "source": [
    "from langchain_community.chat_models.azureml_endpoint import AzureMLChatOnlineEndpoint, CustomOpenAIChatContentFormatter\n",
    "from langchain_community.llms.azureml_endpoint import AzureMLEndpointApiType\n",
    "\n",
    "llm = AzureMLChatOnlineEndpoint(\n",
    "    endpoint_url=URI,\n",
    "    endpoint_api_type=AzureMLEndpointApiType.dedicated,\n",
    "    endpoint_api_key=KEY,\n",
    "    content_formatter=CustomOpenAIChatContentFormatter(),\n",
    "    model_kwargs={\"max_tokens\": 512},\n",
    ")\n"
   ]
  },
  {
   "cell_type": "code",
   "execution_count": 29,
   "metadata": {},
   "outputs": [
    {
     "data": {
      "text/plain": [
       "BaseMessage(content=\"I'm just a language model, I don't have emotions or feelings like humans do, but I'm functioning properly and ready to help you with any questions or tasks you have. How about you? How's your day going so far?\", type='assistant', id='run-e77330f5-5a5f-4734-9bab-c4067cff9d52-0')"
      ]
     },
     "execution_count": 29,
     "metadata": {},
     "output_type": "execute_result"
    }
   ],
   "source": [
    "llm.invoke(\"Hello, how are you?\")"
   ]
  },
  {
   "cell_type": "code",
   "execution_count": 8,
   "metadata": {},
   "outputs": [],
   "source": [
    "from langchain.chains.combine_documents import create_stuff_documents_chain\n",
    "from langchain_core.prompts import ChatPromptTemplate, MessagesPlaceholder\n",
    "\n",
    "SYSTEM_TEMPLATE = \"\"\"\n",
    "Answer the user's questions based on the below context. \n",
    "If the context doesn't contain any relevant information to the question, don't make something up and just say \"I don't know\":\n",
    "\n",
    "<context>\n",
    "{context}\n",
    "</context>\n",
    "\"\"\"\n",
    "\n",
    "question_answering_prompt = ChatPromptTemplate.from_messages(\n",
    "    [\n",
    "        (\n",
    "            \"system\",\n",
    "            SYSTEM_TEMPLATE,\n",
    "        ),\n",
    "        MessagesPlaceholder(variable_name=\"messages\"),\n",
    "    ]\n",
    ")\n",
    "\n",
    "document_chain = create_stuff_documents_chain(llm, question_answering_prompt)"
   ]
  },
  {
   "cell_type": "code",
   "execution_count": 9,
   "metadata": {},
   "outputs": [],
   "source": [
    "from langchain_core.messages import AIMessage, HumanMessage\n",
    "\n",
    "query_transform_prompt = ChatPromptTemplate.from_messages(\n",
    "    [\n",
    "        MessagesPlaceholder(variable_name=\"messages\"),\n",
    "        (\n",
    "            \"user\",\n",
    "            \"Given the above conversation, generate a search query to look up in order to get information relevant to the conversation. Only respond with the query, nothing else.\",\n",
    "        ),\n",
    "    ]\n",
    ")"
   ]
  },
  {
   "cell_type": "code",
   "execution_count": 10,
   "metadata": {},
   "outputs": [],
   "source": [
    "from langchain_core.output_parsers import StrOutputParser\n",
    "from langchain_core.runnables import RunnableBranch\n",
    "\n",
    "query_transforming_retriever_chain = RunnableBranch(\n",
    "    (\n",
    "        lambda x: len(x.get(\"messages\", [])) == 1,\n",
    "        # If only one message, then we just pass that message's content to retriever\n",
    "        (lambda x: x[\"messages\"][-1].content) | retriever,\n",
    "    ),\n",
    "    # If messages, then we pass inputs to LLM chain to transform the query, then pass to retriever\n",
    "    query_transform_prompt | llm | StrOutputParser() | retriever,\n",
    ").with_config(run_name=\"chat_retriever_chain\")"
   ]
  },
  {
   "cell_type": "code",
   "execution_count": 11,
   "metadata": {},
   "outputs": [],
   "source": [
    "SYSTEM_TEMPLATE = \"\"\"\n",
    "Answer the user's questions based on the below context. \n",
    "If the context doesn't contain any relevant information to the question, don't make something up and just say \"I don't know\":\n",
    "\n",
    "<context>\n",
    "{context}\n",
    "</context>\n",
    "\"\"\"\n",
    "\n",
    "question_answering_prompt = ChatPromptTemplate.from_messages(\n",
    "    [\n",
    "        (\n",
    "            \"system\",\n",
    "            SYSTEM_TEMPLATE,\n",
    "        ),\n",
    "        MessagesPlaceholder(variable_name=\"messages\"),\n",
    "    ]\n",
    ")\n",
    "\n",
    "document_chain = create_stuff_documents_chain(llm, question_answering_prompt)"
   ]
  },
  {
   "cell_type": "code",
   "execution_count": 12,
   "metadata": {},
   "outputs": [],
   "source": [
    "question = \"What happened with  OECD  Working  Group in  Copenhagen  in  June  1995?\""
   ]
  },
  {
   "cell_type": "code",
   "execution_count": 15,
   "metadata": {},
   "outputs": [],
   "source": [
    "from langchain_core.runnables import RunnablePassthrough\n",
    "conversational_retrieval_chain = RunnablePassthrough.assign(\n",
    "            context=query_transforming_retriever_chain,\n",
    "        ).assign(\n",
    "            answer=document_chain,\n",
    "        )"
   ]
  },
  {
   "cell_type": "code",
   "execution_count": 32,
   "metadata": {},
   "outputs": [],
   "source": [
    "response = conversational_retrieval_chain.invoke(\n",
    "    {\n",
    "        \"messages\": [\n",
    "            HumanMessage(content=\"You are a chat bot that answers questions about test guidelines. \"),\n",
    "            AIMessage(content=\"Hello, I'm a chatbot built to help you query OECD test guidelines.\"),\n",
    "            HumanMessage(content=question),\n",
    "        ]\n",
    "    }\n",
    ")"
   ]
  },
  {
   "cell_type": "code",
   "execution_count": 33,
   "metadata": {},
   "outputs": [
    {
     "data": {
      "text/plain": [
       "{'messages': [HumanMessage(content='What happened with  OECD  Working  Group in  Copenhagen  in  June  1995?')],\n",
       " 'context': [Document(page_content='In Copenhagen in June 1995, an OECD Working Group on Reproduction and Developmental', metadata={'id': '..\\\\documents\\\\OECD TG 416 (2001).pdf:0:2', 'page': 0, 'source': '..\\\\documents\\\\OECD TG 416 (2001).pdf'}),\n",
       "  Document(page_content='OECD/OCDE             441 \\n \\n5 © OCDE, (2009)  \\n Housing and feeding conditions', metadata={'id': '..\\\\documents\\\\OECD TG 441 (2009).pdf:4:0', 'page': 4, 'source': '..\\\\documents\\\\OECD TG 441 (2009).pdf'}),\n",
       "  Document(page_content='OECD/OCDE             441 \\n \\n17 © OCDE, (2009)  \\n ANNEX 2  \\nNote : Document prepared by the Secretariat of the Test Guidelines Prog ramme based on the agreement reached at the 6th Meeting of the E DTA Task Force\\nOECD Conceptual Framework for the Testing and Assessment of Endocrine Disrupting Chemicals\\nLevel 1\\nSorting & prioritization based \\nupon existing information\\nLevel 2\\nIn vitro assays providing\\nmechanistic data\\nLevel 3\\nIn vivo assays providing data\\nabout single endocrine\\nMechanisms and effects\\nLevel 4\\nIn vivo assays providing data\\nabout multiple endocrine\\nMechanisms and effects\\nLevel 5\\nIn vivo assays providing data on\\neffects from endocrine & \\nother mechanisms-physical & chemical properties, e.g., MW, reactivity, volatility ,  biodegradability,    \\n- human & environmental exposure, e.g., production volume, releas e,  use patterns\\n-hazard, e.g., available toxicological data \\n-ER, AR, TR  receptor binding affinity                       -High Through Put Prescreens\\n-Transcriptional activation                                     -Thyroid function\\n-Aromatase and steroidogenesis in vitro                     -Fish hepatocyte VTG assay\\n-Aryl hydrocarbon receptor recognition/binding        - Others (as appropriate)\\n-QSARs\\n-Uterotrophic assay  (estrogenic related)\\n-Hershberger assay (androgenic related)\\n-Non -receptor mediated hormone function\\n-Others (e.g. thyroid)-Fish VTG ( vitellogenin) assay\\n(estrogenic related)\\n-Fish gonadal histopathology assay\\n-Frog metamorphosis assay\\n- 1-generation assay (TG415 enhanced)1\\n- 2-generation assay (TG416 enhanced)1', metadata={'id': '..\\\\documents\\\\OECD TG 441 (2009).pdf:16:0', 'page': 16, 'source': '..\\\\documents\\\\OECD TG 441 (2009).pdf'}),\n",
       "  Document(page_content='OECD/OCDE             441 \\n \\n                     © OECD, (2009 )                                                       19 \\n                             \\n  \\n \\n \\n LITERATURE  \\n \\n(1) OECD. 1998. Report of the First Meeting of the OECD Endocri ne Disrupter Testing and \\nAssessment (EDTA) Task Force, 10th -11th March 1998, ENV/MC/CHEM/RA(98)5. \\n(2)  Dorfman RI. 1962.  Standard methods adopted by official organization.  Academic Press, NY. \\n(3) Gray LE Jr, Furr J and Ostby JS. 2005.  Hershberger assay to investigate the effects of endocrine \\ndisrupting compounds with androgenic and antiandrogenic activity in castrate -immature male rats.  \\nIn:  Current Protocols in Toxicology 16.9.1-16.9.15.  J Wiley and Sons Inc. \\n (4) OECD. 2006. Final OECD report of the initial work towards the validation of the rat Hershberger \\nassay. Phase 1. Androgenic response to testosterone propionate and anti -androgenic effects of \\nflutamide. Environmental Health and Safety , Monograph Series on Testing and Assessment N ° 62. \\nENV/JM/MO NO(2006)30. \\n(5) OECD. 2008. Report of the OECD Validation of the Rat  Hershberger Bioassay: Phase 2: Testing \\nof Androgen Agonists, Androgen Antagonists and a 5α -Reductase Inhibitor in Dose Response \\nStudies by Multiple Laboratories. Environmental Health and Safety , Monograph Series on Testing \\nand Assessment N ° 86. ENV/JM/MONO(200 8)3. \\n(6) OECD. 2007. Report of the Validation of the Rat Hershberger Assay: Phase 3: Coded Testing of \\nAndrogen Agonists, Androgen Antagonists and Negative Reference Chemicals by Multi ple', metadata={'id': '..\\\\documents\\\\OECD TG 441 (2009).pdf:18:0', 'page': 18, 'source': '..\\\\documents\\\\OECD TG 441 (2009).pdf'})],\n",
       " 'answer': 'According to the provided context, the OECD Working Group on Reproduction and Developmental Housing and feeding conditions took place in Copenhagen in June 1995.'}"
      ]
     },
     "execution_count": 33,
     "metadata": {},
     "output_type": "execute_result"
    }
   ],
   "source": [
    "response"
   ]
  },
  {
   "cell_type": "code",
   "execution_count": 28,
   "metadata": {},
   "outputs": [
    {
     "data": {
      "text/plain": [
       "'According to the provided context, an OECD Working Group on Reproduction and Developmental Toxicology (RTD) was held in Copenhagen in June 1995.'"
      ]
     },
     "execution_count": 28,
     "metadata": {},
     "output_type": "execute_result"
    }
   ],
   "source": [
    "response['answer']"
   ]
  }
 ],
 "metadata": {
  "kernelspec": {
   "display_name": "pmra",
   "language": "python",
   "name": "python3"
  },
  "language_info": {
   "codemirror_mode": {
    "name": "ipython",
    "version": 3
   },
   "file_extension": ".py",
   "mimetype": "text/x-python",
   "name": "python",
   "nbconvert_exporter": "python",
   "pygments_lexer": "ipython3",
   "version": "3.10.14"
  }
 },
 "nbformat": 4,
 "nbformat_minor": 2
}
